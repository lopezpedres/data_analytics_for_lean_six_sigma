{
 "cells": [
  {
   "cell_type": "code",
   "execution_count": 84,
   "metadata": {},
   "outputs": [],
   "source": [
    "import numpy as np \n",
    "import matplotlib.pyplot as plt\n",
    "import seaborn as sns\n",
    "import pandas as pd\n",
    "import scipy as sp\n",
    "import random\n",
    "from collections import Counter"
   ]
  },
  {
   "cell_type": "code",
   "execution_count": 85,
   "metadata": {},
   "outputs": [],
   "source": [
    "#Creating a population of 5000 units\n",
    "p_vehicles = range(1,5001)\n",
    "#Creating a seed value, so we can keep track\n",
    "random.seed(0)\n",
    "#Creating a sample\n",
    "s_vehicles = random.sample(p_vehicles, k=100)"
   ]
  },
  {
   "cell_type": "code",
   "execution_count": 86,
   "metadata": {},
   "outputs": [],
   "source": [
    "#Getting our data\n",
    "file = '_fb205379f16688a0d5fff594e91ac7e7_data_files_DA-LSS.xlsx'\n",
    "df = pd.read_excel(doc_name,header = 11, sheet_name = 1)"
   ]
  },
  {
   "cell_type": "code",
   "execution_count": 87,
   "metadata": {},
   "outputs": [
    {
     "data": {
      "text/html": [
       "<div>\n",
       "<style scoped>\n",
       "    .dataframe tbody tr th:only-of-type {\n",
       "        vertical-align: middle;\n",
       "    }\n",
       "\n",
       "    .dataframe tbody tr th {\n",
       "        vertical-align: top;\n",
       "    }\n",
       "\n",
       "    .dataframe thead th {\n",
       "        text-align: right;\n",
       "    }\n",
       "</style>\n",
       "<table border=\"1\" class=\"dataframe\">\n",
       "  <thead>\n",
       "    <tr style=\"text-align: right;\">\n",
       "      <th></th>\n",
       "      <th>Case number</th>\n",
       "      <th>Sender-id</th>\n",
       "      <th>Type</th>\n",
       "      <th>Total time</th>\n",
       "      <th>Time open</th>\n",
       "      <th>Time pending</th>\n",
       "      <th>Time closed</th>\n",
       "      <th>Number of pending iterations</th>\n",
       "    </tr>\n",
       "  </thead>\n",
       "  <tbody>\n",
       "    <tr>\n",
       "      <th>0</th>\n",
       "      <td>GR0400250011</td>\n",
       "      <td>BSABESBB</td>\n",
       "      <td>AN</td>\n",
       "      <td>29.73</td>\n",
       "      <td>20.80</td>\n",
       "      <td>8.93</td>\n",
       "      <td>0.0</td>\n",
       "      <td>3</td>\n",
       "    </tr>\n",
       "    <tr>\n",
       "      <th>1</th>\n",
       "      <td>GR0400250015</td>\n",
       "      <td>BDCCANCU</td>\n",
       "      <td>OX</td>\n",
       "      <td>6.83</td>\n",
       "      <td>5.54</td>\n",
       "      <td>1.29</td>\n",
       "      <td>0.0</td>\n",
       "      <td>2</td>\n",
       "    </tr>\n",
       "    <tr>\n",
       "      <th>2</th>\n",
       "      <td>GR0400250022</td>\n",
       "      <td>CITIUS33</td>\n",
       "      <td>NU</td>\n",
       "      <td>6.86</td>\n",
       "      <td>6.86</td>\n",
       "      <td>0.00</td>\n",
       "      <td>0.0</td>\n",
       "      <td>0</td>\n",
       "    </tr>\n",
       "    <tr>\n",
       "      <th>3</th>\n",
       "      <td>GR0400250023</td>\n",
       "      <td>BOFMCAM2</td>\n",
       "      <td>NU</td>\n",
       "      <td>6.93</td>\n",
       "      <td>4.77</td>\n",
       "      <td>2.16</td>\n",
       "      <td>0.0</td>\n",
       "      <td>1</td>\n",
       "    </tr>\n",
       "    <tr>\n",
       "      <th>4</th>\n",
       "      <td>GR0400250024</td>\n",
       "      <td>BFICCUHH</td>\n",
       "      <td>OX</td>\n",
       "      <td>19.81</td>\n",
       "      <td>0.28</td>\n",
       "      <td>19.52</td>\n",
       "      <td>0.0</td>\n",
       "      <td>4</td>\n",
       "    </tr>\n",
       "  </tbody>\n",
       "</table>\n",
       "</div>"
      ],
      "text/plain": [
       "    Case number Sender-id Type  Total time  Time open  Time pending  \\\n",
       "0  GR0400250011  BSABESBB   AN       29.73      20.80          8.93   \n",
       "1  GR0400250015  BDCCANCU   OX        6.83       5.54          1.29   \n",
       "2  GR0400250022  CITIUS33   NU        6.86       6.86          0.00   \n",
       "3  GR0400250023  BOFMCAM2   NU        6.93       4.77          2.16   \n",
       "4  GR0400250024  BFICCUHH   OX       19.81       0.28         19.52   \n",
       "\n",
       "   Time closed  Number of pending iterations  \n",
       "0          0.0                             3  \n",
       "1          0.0                             2  \n",
       "2          0.0                             0  \n",
       "3          0.0                             1  \n",
       "4          0.0                             4  "
      ]
     },
     "execution_count": 87,
     "metadata": {},
     "output_type": "execute_result"
    }
   ],
   "source": [
    "df.head()"
   ]
  },
  {
   "cell_type": "code",
   "execution_count": 88,
   "metadata": {},
   "outputs": [
    {
     "data": {
      "text/plain": [
       "Text(0.5, 1.0, 'Histogram of Total time')"
      ]
     },
     "execution_count": 88,
     "metadata": {},
     "output_type": "execute_result"
    },
    {
     "data": {
      "image/png": "[encoded data removed]",
      "text/plain": [
       "<Figure size 432x288 with 1 Axes>"
      ]
     },
     "metadata": {
      "needs_background": "light"
     },
     "output_type": "display_data"
    }
   ],
   "source": [
    "# Creating a histogram with the \"TotalTime\" column\n",
    "\n",
    "#df['Total time'].plot(kind='hist') #optional\n",
    "sns.histplot(df, x = 'Total time')\n",
    "plt.title('Histogram of Total time')"
   ]
  },
  {
   "cell_type": "code",
   "execution_count": 89,
   "metadata": {},
   "outputs": [
    {
     "data": {
      "text/plain": [
       "<AxesSubplot:xlabel='Total time'>"
      ]
     },
     "execution_count": 89,
     "metadata": {},
     "output_type": "execute_result"
    },
    {
     "data": {
      "image/png": "[encoded data removed]",
      "text/plain": [
       "<Figure size 432x288 with 1 Axes>"
      ]
     },
     "metadata": {
      "needs_background": "light"
     },
     "output_type": "display_data"
    }
   ],
   "source": [
    "#Creating a boxplot with the \"Total time\" column\n",
    "sns.boxplot(x = 'Total time', data = df)"
   ]
  },
  {
   "cell_type": "markdown",
   "metadata": {},
   "source": [
    "## Exercises"
   ]
  },
  {
   "cell_type": "markdown",
   "metadata": {},
   "source": [
    "### What are the average and the standard dev of the Total time?"
   ]
  },
  {
   "cell_type": "code",
   "execution_count": 90,
   "metadata": {},
   "outputs": [
    {
     "name": "stdout",
     "output_type": "stream",
     "text": [
      "Mean : 9.422341650671784 \n",
      "Std : 12.64870921495865\n"
     ]
    }
   ],
   "source": [
    "mean= np.mean(df['Total time'])\n",
    "std = np.std(df['Total time'])\n",
    "print('Mean : {} \\nStd : {}'.format(mean,std))"
   ]
  },
  {
   "cell_type": "markdown",
   "metadata": {},
   "source": [
    "### How many reclaims are handled within 15 days?"
   ]
  },
  {
   "cell_type": "code",
   "execution_count": 91,
   "metadata": {},
   "outputs": [
    {
     "data": {
      "text/plain": [
       "count    521.000000\n",
       "mean       9.422342\n",
       "std       12.660866\n",
       "min        0.000000\n",
       "25%        1.040000\n",
       "50%        4.070000\n",
       "75%       11.850000\n",
       "max       59.800000\n",
       "Name: Total time, dtype: float64"
      ]
     },
     "execution_count": 91,
     "metadata": {},
     "output_type": "execute_result"
    }
   ],
   "source": [
    "df['Total time'].describe()\n",
    "#Just by looking at this, I can know that 75% of my data is handled withing 11 days"
   ]
  },
  {
   "cell_type": "code",
   "execution_count": 92,
   "metadata": {},
   "outputs": [
    {
     "data": {
      "text/plain": [
       "404"
      ]
     },
     "execution_count": 92,
     "metadata": {},
     "output_type": "execute_result"
    }
   ],
   "source": [
    "#here I can know exactly how many reclaims where handled in 14 or less days.\n",
    "def count_reclaims(L):\n",
    "    counter = 0\n",
    "    for x in L:\n",
    "        if x<=14:\n",
    "            counter+=1\n",
    "    return counter\n",
    "\n",
    "\n",
    "count_reclaims(df['Total time'].to_list())"
   ]
  },
  {
   "cell_type": "markdown",
   "metadata": {},
   "source": [
    "### Is the distribution Symetrical?"
   ]
  },
  {
   "cell_type": "code",
   "execution_count": 93,
   "metadata": {},
   "outputs": [
    {
     "name": "stdout",
     "output_type": "stream",
     "text": [
      "No, is skwee to the right\n"
     ]
    },
    {
     "data": {
      "image/png": "[encoded data removed]",
      "text/plain": [
       "<Figure size 432x288 with 1 Axes>"
      ]
     },
     "metadata": {
      "needs_background": "light"
     },
     "output_type": "display_data"
    }
   ],
   "source": [
    "# Creating a histogram with the \"TotalTime\" column\n",
    "\n",
    "#df['Total time'].plot(kind='hist') #optional\n",
    "sns.histplot(df, x = 'Total time')\n",
    "plt.title('Histogram of Total time')\n",
    "print('No, is skwee to the right')"
   ]
  },
  {
   "cell_type": "markdown",
   "metadata": {},
   "source": [
    "### Most repeted type?"
   ]
  },
  {
   "cell_type": "code",
   "execution_count": 94,
   "metadata": {},
   "outputs": [
    {
     "data": {
      "text/plain": [
       "([<matplotlib.patches.Wedge at 0x2c55d9a85b0>,\n",
       "  <matplotlib.patches.Wedge at 0x2c55d9a8a90>,\n",
       "  <matplotlib.patches.Wedge at 0x2c55d9a8f40>,\n",
       "  <matplotlib.patches.Wedge at 0x2c55d9b8400>,\n",
       "  <matplotlib.patches.Wedge at 0x2c55d9b8880>,\n",
       "  <matplotlib.patches.Wedge at 0x2c55d9b8d00>,\n",
       "  <matplotlib.patches.Wedge at 0x2c55d9c51c0>,\n",
       "  <matplotlib.patches.Wedge at 0x2c55d9c5640>,\n",
       "  <matplotlib.patches.Wedge at 0x2c55d9c5ac0>,\n",
       "  <matplotlib.patches.Wedge at 0x2c55d9c5f40>,\n",
       "  <matplotlib.patches.Wedge at 0x2c55d9860d0>,\n",
       "  <matplotlib.patches.Wedge at 0x2c55d9d2850>,\n",
       "  <matplotlib.patches.Wedge at 0x2c55d9d2cd0>,\n",
       "  <matplotlib.patches.Wedge at 0x2c55d9e1190>,\n",
       "  <matplotlib.patches.Wedge at 0x2c55d9e1610>],\n",
       " [Text(1.063230356120408, 0.28203051222176406, 'AN'),\n",
       "  Text(0.11586084230627104, 1.0938812847928616, 'OX'),\n",
       "  Text(-0.9979484361335859, 0.4627082437330574, 'NU'),\n",
       "  Text(-1.0955035193461458, -0.0993581355511909, 'NO'),\n",
       "  Text(-0.9097513833371577, -0.6183465213908202, 'KK'),\n",
       "  Text(-0.6535198746037552, -0.884823018178151, 'BD'),\n",
       "  Text(-0.3298098308894559, -1.0493929080419158, 'DD'),\n",
       "  Text(0.023213446551606634, -1.0997550344959535, 'BV'),\n",
       "  Text(0.23367446720088975, -1.0748935963054114, 'WX'),\n",
       "  Text(0.6902745540815626, -0.8564584286394175, 'BC'),\n",
       "  Text(0.9586497575043351, -0.539435484962641, 'XX'),\n",
       "  Text(1.0615103969678077, -0.2884366085108607, 'CT'),\n",
       "  Text(1.098380554052862, -0.05966706359900881, 'CS'),\n",
       "  Text(1.0996800454702007, -0.02652918382946982, 'PX'),\n",
       "  Text(1.099980001605495, -0.006632953186588671, 'N2')])"
      ]
     },
     "execution_count": 94,
     "metadata": {},
     "output_type": "execute_result"
    },
    {
     "data": {
      "image/png": "[encoded data removed]",
      "text/plain": [
       "<Figure size 432x288 with 1 Axes>"
      ]
     },
     "metadata": {},
     "output_type": "display_data"
    }
   ],
   "source": [
    "def pie(L):\n",
    "    C = Counter(L) #By doing this we can have the count of each categorical value\n",
    "    return plt.pie(labels = C.keys(), x = C.values())\n",
    "pie(df.Type)"
   ]
  },
  {
   "cell_type": "code",
   "execution_count": null,
   "metadata": {},
   "outputs": [],
   "source": []
  },
  {
   "cell_type": "code",
   "execution_count": null,
   "metadata": {},
   "outputs": [],
   "source": []
  },
  {
   "cell_type": "code",
   "execution_count": null,
   "metadata": {},
   "outputs": [],
   "source": []
  }
 ],
 "metadata": {
  "kernelspec": {
   "display_name": "Python 3",
   "language": "python",
   "name": "python3"
  },
  "language_info": {
   "codemirror_mode": {
    "name": "ipython",
    "version": 3
   },
   "file_extension": ".py",
   "mimetype": "text/x-python",
   "name": "python",
   "nbconvert_exporter": "python",
   "pygments_lexer": "ipython3",
   "version": "3.8.5"
  }
 },
 "nbformat": 4,
 "nbformat_minor": 4
}
